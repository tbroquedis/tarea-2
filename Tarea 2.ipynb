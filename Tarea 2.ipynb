{
 "cells": [
  {
   "cell_type": "code",
   "execution_count": 2,
   "metadata": {},
   "outputs": [],
   "source": [
    "#1.Ejercicio Sets:\n",
    "#Dadas dos listas, convertirlas a un set en donde no se muestren los elemnetos repetidos que existen en ambas listas.\n"
   ]
  },
  {
   "cell_type": "code",
   "execution_count": 37,
   "metadata": {},
   "outputs": [
    {
     "data": {
      "text/plain": [
       "{'gato', 'liebre', 'perro', 'serpiente', 'tortuga'}"
      ]
     },
     "execution_count": 37,
     "metadata": {},
     "output_type": "execute_result"
    }
   ],
   "source": [
    "def ej1(x,y):\n",
    "    a=set(x)\n",
    "    b=set(y)\n",
    "    return(a|b)\n",
    "\n",
    "l1=['perro','tortuga','gato','perro']\n",
    "l2=['liebre','gato','serpiente']\n",
    "ej1(l1,l2)"
   ]
  },
  {
   "cell_type": "code",
   "execution_count": 3,
   "metadata": {},
   "outputs": [],
   "source": [
    "#2.Ejercicio diccionarios:\n",
    "#Se les da un diccionario con el stock de una bodega de instrumentos musicales y su precio unitario.\n",
    "#Devolver otro diccionario con la suma de lo que valen todas las categorias instrumentos por separado."
   ]
  },
  {
   "cell_type": "code",
   "execution_count": 9,
   "metadata": {},
   "outputs": [
    {
     "data": {
      "text/plain": [
       "{'stock': 22, 'precio': 2500}"
      ]
     },
     "execution_count": 9,
     "metadata": {},
     "output_type": "execute_result"
    }
   ],
   "source": [
    "def ej2a(x):\n",
    "    \n",
    "    i1=x.get('guitarra')\n",
    "    s1=i1.get('stock')\n",
    "    p1=i1.get('precio')\n",
    "    \n",
    "    i2=x.get('xilofono')\n",
    "    s2=i2.get('stock')\n",
    "    p2=i2.get('precio')\n",
    "    \n",
    "    r={'stock':(s1+s2),'precio':(p1+p2)}\n",
    "    return(r)\n",
    "\n",
    "    \n",
    "\n",
    "\n",
    "\n",
    "p={'guitarra':{'stock':20,'precio':2000},'xilofono':{'stock':2,'precio':500}}\n",
    "ej2a(p)"
   ]
  },
  {
   "cell_type": "code",
   "execution_count": 9,
   "metadata": {},
   "outputs": [
    {
     "name": "stdout",
     "output_type": "stream",
     "text": [
      "106000\n",
      "43000\n"
     ]
    }
   ],
   "source": [
    "def ej2b(p):\n",
    "    for key,val in p.items():\n",
    "        print(val[\"stock\"] * val[\"precio\"])\n",
    "        \n",
    "p={'guitarra':{'stock':53,'precio':2000},'xilofono':{'stock':43,'precio':1000}}\n",
    "ej2b(p)"
   ]
  },
  {
   "cell_type": "code",
   "execution_count": null,
   "metadata": {},
   "outputs": [],
   "source": [
    "#3.Ejercicio list comprehensions:\n",
    "#Usando list comprehension, generar y retornar un tablero de ajedrez (8x8), donde los cuadrados blancos sean 1 y\n",
    "#los negros sean 0. Todo esto se tiene que hacer en una sola linea."
   ]
  },
  {
   "cell_type": "code",
   "execution_count": 6,
   "metadata": {},
   "outputs": [
    {
     "name": "stdout",
     "output_type": "stream",
     "text": [
      "[0, 1, 0, 1, 0, 1, 0, 1]\n",
      "[1, 0, 1, 0, 1, 0, 1, 0]\n",
      "[0, 1, 0, 1, 0, 1, 0, 1]\n",
      "[1, 0, 1, 0, 1, 0, 1, 0]\n",
      "[0, 1, 0, 1, 0, 1, 0, 1]\n",
      "[1, 0, 1, 0, 1, 0, 1, 0]\n",
      "[0, 1, 0, 1, 0, 1, 0, 1]\n",
      "[1, 0, 1, 0, 1, 0, 1, 0]\n"
     ]
    }
   ],
   "source": [
    "for x in [[(n+(y%2))%2 for n in range (8)]for y in range(8)]: print (x)"
   ]
  },
  {
   "cell_type": "code",
   "execution_count": null,
   "metadata": {},
   "outputs": [],
   "source": []
  }
 ],
 "metadata": {
  "kernelspec": {
   "display_name": "Python 3",
   "language": "python",
   "name": "python3"
  },
  "language_info": {
   "codemirror_mode": {
    "name": "ipython",
    "version": 3
   },
   "file_extension": ".py",
   "mimetype": "text/x-python",
   "name": "python",
   "nbconvert_exporter": "python",
   "pygments_lexer": "ipython3",
   "version": "3.6.5"
  }
 },
 "nbformat": 4,
 "nbformat_minor": 2
}
